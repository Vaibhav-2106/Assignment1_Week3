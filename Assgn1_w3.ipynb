{
 "cells": [
  {
   "cell_type": "code",
   "execution_count": 1,
   "id": "e64046eb-a8db-4a3e-a513-7f7619229655",
   "metadata": {},
   "outputs": [],
   "source": [
    "## WEEK 3 ASSIGNMENT NO 1 solution\n"
   ]
  },
  {
   "cell_type": "code",
   "execution_count": 5,
   "id": "1e3645e8-6edc-4b99-839a-5595e06ae265",
   "metadata": {},
   "outputs": [],
   "source": [
    "## Q1.\n",
    "#In python 'def' is the keyword which is used to create functions.\n",
    "#exa-\n",
    "\n",
    "def lis_odd() :\n",
    "    l = [1,2,3,4,5,6,7,8,9,10,11,12,13,14,15,16,17,18,19,20,21,22,23,24,25]\n",
    "    l1 = []\n",
    "    for i in l :\n",
    "        if i % 2 != 0 :\n",
    "            l1.append(i)\n",
    "    return l1"
   ]
  },
  {
   "cell_type": "code",
   "execution_count": 6,
   "id": "c301c636-6282-4ab8-98f4-e226845153c9",
   "metadata": {},
   "outputs": [
    {
     "data": {
      "text/plain": [
       "[1, 3, 5, 7, 9, 11, 13, 15, 17, 19, 21, 23, 25]"
      ]
     },
     "execution_count": 6,
     "metadata": {},
     "output_type": "execute_result"
    }
   ],
   "source": [
    "lis_odd()"
   ]
  },
  {
   "cell_type": "code",
   "execution_count": 33,
   "id": "6b733da1-da90-4db6-9118-5322f24dc9ef",
   "metadata": {},
   "outputs": [
    {
     "data": {
      "text/plain": [
       "('Vaibhav', 1)"
      ]
     },
     "execution_count": 33,
     "metadata": {},
     "output_type": "execute_result"
    }
   ],
   "source": [
    "## Q2.\n",
    "#In some functions '*args' is used, this is used to pass any argument inside the function\n",
    "#exa -\n",
    "\n",
    "def test(*args) :\n",
    "    return args\n",
    "\n",
    "test(\"Vaibhav\", 1)"
   ]
  },
  {
   "cell_type": "code",
   "execution_count": 34,
   "id": "1be02856-9507-4bd2-921a-f8860daaccb0",
   "metadata": {},
   "outputs": [
    {
     "data": {
      "text/plain": [
       "{'Name': 'Vaibhav', 'Age': 23, 'Institute': 'IIT KGP'}"
      ]
     },
     "execution_count": 34,
     "metadata": {},
     "output_type": "execute_result"
    }
   ],
   "source": [
    "#In some functions '**kwargs' keyword is used, this is used to give key-value pair as an argument inside the function\n",
    "#exa- \n",
    "\n",
    "def test1(**kwargs) :\n",
    "    return kwargs\n",
    "\n",
    "test1(Name = \"Vaibhav\", Age = 23, Institute = \"IIT KGP\")\n"
   ]
  },
  {
   "cell_type": "code",
   "execution_count": 35,
   "id": "cddddb30-5baf-46d6-a474-dfc2bb8882d4",
   "metadata": {},
   "outputs": [
    {
     "name": "stdout",
     "output_type": "stream",
     "text": [
      "2\n",
      "4\n",
      "6\n",
      "8\n",
      "10\n"
     ]
    }
   ],
   "source": [
    "## Q3.\n",
    "# In python iterator is an object which goes element wise inside iterables for example list. \n",
    "# We can use iter() function to create iterator from iterable object.\n",
    "# for loop works on the same concept\n",
    "l = [2,4,6,8,10,12,14,16,18,20]\n",
    "l = iter(l)\n",
    "print(next(l))\n",
    "print(next(l))\n",
    "print(next(l))\n",
    "print(next(l))\n",
    "print(next(l))     # or we can print the same using for loop\n"
   ]
  },
  {
   "cell_type": "code",
   "execution_count": 38,
   "id": "8702ea11-7540-4e3b-b9aa-c931e10ff9a5",
   "metadata": {},
   "outputs": [
    {
     "name": "stdout",
     "output_type": "stream",
     "text": [
      "1\n",
      "2\n",
      "3\n",
      "4\n",
      "5\n",
      "6\n",
      "7\n",
      "8\n",
      "9\n",
      "10\n"
     ]
    }
   ],
   "source": [
    "## Q4.\n",
    "# Generator is one of the special type of function in which sequence of value are generated using a keyword 'yield'.\n",
    "# In generator function we use 'yield' keyword instead a 'return' keyword.\n",
    "# The yield keyword suspends the function execution and return the yielded value and when next time function is called it resumes the execution from where it was suspended.\n",
    "\n",
    "#Example - \n",
    "def gen_fun(n) :\n",
    "    a =1\n",
    "    while a <= n :\n",
    "        yield a\n",
    "        a = a + 1\n",
    "        \n",
    "q = gen_fun(10)\n",
    "for i in q :\n",
    "    print(i)"
   ]
  },
  {
   "cell_type": "code",
   "execution_count": 7,
   "id": "5b1001e7-167a-4a11-940e-d5cf97f55096",
   "metadata": {},
   "outputs": [
    {
     "name": "stdout",
     "output_type": "stream",
     "text": [
      "2\n",
      "3\n",
      "5\n",
      "7\n",
      "11\n",
      "13\n",
      "17\n",
      "19\n",
      "23\n",
      "29\n",
      "31\n",
      "37\n",
      "41\n",
      "43\n",
      "47\n",
      "53\n",
      "59\n",
      "61\n",
      "67\n",
      "71\n"
     ]
    }
   ],
   "source": [
    "## Q5.\n",
    "\n",
    "def is_prime(num):\n",
    "    if num < 2:\n",
    "        return False\n",
    "    for i in range(2, int(num ** 0.5) + 1):\n",
    "        if num % i == 0:\n",
    "            return False\n",
    "    return True\n",
    "\n",
    "def generate_primes():\n",
    "    num = 1\n",
    "    count = 0\n",
    "    while count < 20:\n",
    "        if is_prime(num):\n",
    "            yield num\n",
    "            count += 1\n",
    "        num += 1\n",
    "\n",
    "prime_generator = generate_primes()\n",
    "\n",
    "for x in range(20):\n",
    "    print(next(prime_generator))"
   ]
  },
  {
   "cell_type": "code",
   "execution_count": 39,
   "id": "052ba41e-0522-4e03-9c99-f3a95672d708",
   "metadata": {
    "tags": []
   },
   "outputs": [
    {
     "name": "stdout",
     "output_type": "stream",
     "text": [
      "0\n",
      "1\n",
      "1\n",
      "2\n",
      "3\n",
      "5\n",
      "8\n",
      "13\n",
      "21\n",
      "34\n"
     ]
    }
   ],
   "source": [
    "## Q6.\n",
    "\n",
    "def fib_num() :\n",
    "    a,b = 0,1\n",
    "    while True :\n",
    "        yield a\n",
    "        a,b = b, a+b\n",
    "        \n",
    "x = fib_num()\n",
    "\n",
    "for i in range(10) :\n",
    "    print(next(x))\n",
    "   "
   ]
  },
  {
   "cell_type": "code",
   "execution_count": 45,
   "id": "af1fe511-50dd-45c6-b818-f18b19742f50",
   "metadata": {},
   "outputs": [
    {
     "data": {
      "text/plain": [
       "['p', 'w', 's', 'k', 'i', 'l', 'l', 's']"
      ]
     },
     "execution_count": 45,
     "metadata": {},
     "output_type": "execute_result"
    }
   ],
   "source": [
    "## Q7.\n",
    "v = \"pwskills\"\n",
    "\n",
    "def test(v) :\n",
    "    return v\n",
    "\n",
    "list(map(test, v))\n"
   ]
  },
  {
   "cell_type": "code",
   "execution_count": 60,
   "id": "5b0ff8a0-f18d-4b19-b6ff-b950210c02d6",
   "metadata": {},
   "outputs": [],
   "source": [
    "## Q8.\n",
    "\n",
    "def is_palindrome(number) :\n",
    "    num_str = str(number)\n",
    "    if num_str == num_str[::-1] :\n",
    "        print(\"Yes, number is palindrome\")\n",
    "    else :\n",
    "        print(\"No, number is not palindrome\")"
   ]
  },
  {
   "cell_type": "code",
   "execution_count": 61,
   "id": "29c4aea4-7f5a-4a16-b6c3-6052d291653d",
   "metadata": {},
   "outputs": [
    {
     "name": "stdout",
     "output_type": "stream",
     "text": [
      "Yes, number is palindrome\n"
     ]
    }
   ],
   "source": [
    "is_palindrome(12321)"
   ]
  },
  {
   "cell_type": "code",
   "execution_count": 62,
   "id": "7f206a90-266f-4611-b95e-b29873bd9a37",
   "metadata": {},
   "outputs": [
    {
     "name": "stdout",
     "output_type": "stream",
     "text": [
      "No, number is not palindrome\n"
     ]
    }
   ],
   "source": [
    "is_palindrome(23)"
   ]
  },
  {
   "cell_type": "code",
   "execution_count": 63,
   "id": "99a09419-4d48-4223-80c7-e8fb844a6fcb",
   "metadata": {},
   "outputs": [
    {
     "name": "stdout",
     "output_type": "stream",
     "text": [
      "Yes, number is palindrome\n"
     ]
    }
   ],
   "source": [
    "is_palindrome(123454321)"
   ]
  },
  {
   "cell_type": "code",
   "execution_count": 66,
   "id": "bf9b8024-cc55-47de-9b8b-0e4b3129818e",
   "metadata": {},
   "outputs": [
    {
     "data": {
      "text/plain": [
       "[1,\n",
       " 3,\n",
       " 5,\n",
       " 7,\n",
       " 9,\n",
       " 11,\n",
       " 13,\n",
       " 15,\n",
       " 17,\n",
       " 19,\n",
       " 21,\n",
       " 23,\n",
       " 25,\n",
       " 27,\n",
       " 29,\n",
       " 31,\n",
       " 33,\n",
       " 35,\n",
       " 37,\n",
       " 39,\n",
       " 41,\n",
       " 43,\n",
       " 45,\n",
       " 47,\n",
       " 49,\n",
       " 51,\n",
       " 53,\n",
       " 55,\n",
       " 57,\n",
       " 59,\n",
       " 61,\n",
       " 63,\n",
       " 65,\n",
       " 67,\n",
       " 69,\n",
       " 71,\n",
       " 73,\n",
       " 75,\n",
       " 77,\n",
       " 79,\n",
       " 81,\n",
       " 83,\n",
       " 85,\n",
       " 87,\n",
       " 89,\n",
       " 91,\n",
       " 93,\n",
       " 95,\n",
       " 97,\n",
       " 99]"
      ]
     },
     "execution_count": 66,
     "metadata": {},
     "output_type": "execute_result"
    }
   ],
   "source": [
    "## Q9.\n",
    "num_list = []\n",
    "for i in range(1,101) :\n",
    "    num_list.append(i)\n",
    "    \n",
    "l = []\n",
    "for x in num_list :\n",
    "    if x % 2 != 0 :\n",
    "        l.append(x)\n",
    "l\n",
    "        \n"
   ]
  }
 ],
 "metadata": {
  "kernelspec": {
   "display_name": "Python 3 (ipykernel)",
   "language": "python",
   "name": "python3"
  },
  "language_info": {
   "codemirror_mode": {
    "name": "ipython",
    "version": 3
   },
   "file_extension": ".py",
   "mimetype": "text/x-python",
   "name": "python",
   "nbconvert_exporter": "python",
   "pygments_lexer": "ipython3",
   "version": "3.10.8"
  }
 },
 "nbformat": 4,
 "nbformat_minor": 5
}
